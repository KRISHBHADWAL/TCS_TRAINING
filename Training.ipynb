{
  "nbformat": 4,
  "nbformat_minor": 0,
  "metadata": {
    "colab": {
      "provenance": []
    },
    "kernelspec": {
      "name": "python3",
      "display_name": "Python 3"
    },
    "language_info": {
      "name": "python"
    }
  },
  "cells": [
    {
      "cell_type": "code",
      "execution_count": null,
      "metadata": {
        "id": "57L2qy_F5twI"
      },
      "outputs": [],
      "source": [
        "x=int(input(\"Enter the number\\n\"))\n",
        "def fact(x):\n",
        "  if x==0 or x==1:\n",
        "    return 1\n",
        "  else:\n",
        "    return x*fact(x-1)\n",
        "print(fact(x))"
      ]
    },
    {
      "cell_type": "markdown",
      "source": [
        "Reverse of the string without changing the special characters\n"
      ],
      "metadata": {
        "id": "DCYSjrrEunZ-"
      }
    },
    {
      "cell_type": "code",
      "source": [
        "# def reverse_text_preserving_specials(s):\n",
        "#     reversed_chars = [c for c in s if c.isalnum()]\n",
        "#     reversed_chars = reversed_chars[::-1]\n",
        "\n",
        "#     output = []\n",
        "#     for c in s:\n",
        "#         if c.isalnum():\n",
        "#             output.append(reversed_chars.pop(0))\n",
        "#         else:\n",
        "#             output.append(c)\n",
        "\n",
        "#     return ''.join(output)\n",
        "\n",
        "# input_str = \"hello, how is your 'family' guys?!\"\n",
        "# output_str = reverse_text_preserving_specials(input_str)\n",
        "# print(output_str)\n",
        "def reverseStr(s):\n",
        "    reverseAlpha = [c for c in s if c.isalpha()][::-1]\n",
        "    result=[]\n",
        "    idx=0\n",
        "    for char in s:\n",
        "        result.append(reverseAlpha[idx])if char.isalpha() else result.append(char)\n",
        "        idx+=1 if char.isalpha() else 0\n",
        "    return ''.join(result)\n",
        "string =\"hello, how is your 'family' guys?!\"\n",
        "print(reverseStr(string))"
      ],
      "metadata": {
        "id": "6--8g0U15_18"
      },
      "execution_count": null,
      "outputs": []
    },
    {
      "cell_type": "markdown",
      "source": [
        "Magic Prime Numbers"
      ],
      "metadata": {
        "id": "Sf0vsqsauxCG"
      }
    },
    {
      "cell_type": "code",
      "source": [
        "def is_prime(n):\n",
        "    if n <= 1:\n",
        "        return False\n",
        "    if n <= 3:\n",
        "        return True\n",
        "    if n % 2 == 0 or n % 3 == 0:\n",
        "        return False\n",
        "    i = 5\n",
        "    while i * i <= n:\n",
        "        if n % i == 0 or n % (i + 2) == 0:\n",
        "            return False\n",
        "        i += 6\n",
        "    return True\n",
        "\n",
        "def is_magic_prime(n):\n",
        "    if not is_prime(n):\n",
        "        return False\n",
        "    reversed_n = int(str(n)[::-1])\n",
        "    return is_prime(reversed_n)\n",
        "\n",
        "def generate_magic_primes(limit):\n",
        "    magic_primes = []\n",
        "    num = 2\n",
        "    while len(magic_primes) < limit:\n",
        "        if is_magic_prime(num):\n",
        "            magic_primes.append(num)\n",
        "        num += 1\n",
        "    return magic_primes\n",
        "\n",
        "\n",
        "magic_primes = generate_magic_primes(50)\n",
        "print(\"First 50 magic prime numbers:\", magic_primes)"
      ],
      "metadata": {
        "colab": {
          "base_uri": "https://localhost:8080/"
        },
        "id": "2Yz3P9VCrqnI",
        "outputId": "84f4977e-e170-4eb3-e72e-ea64b6c5985c"
      },
      "execution_count": null,
      "outputs": [
        {
          "output_type": "stream",
          "name": "stdout",
          "text": [
            "First 50 magic prime numbers: [2, 3, 5, 7, 11, 13, 17, 31, 37, 71, 73, 79, 97, 101, 107, 113, 131, 149, 151, 157, 167, 179, 181, 191, 199, 311, 313, 337, 347, 353, 359, 373, 383, 389, 701, 709, 727, 733, 739, 743, 751, 757, 761, 769, 787, 797, 907, 919, 929, 937]\n"
          ]
        }
      ]
    },
    {
      "cell_type": "code",
      "source": [
        "def min_coins(coins, amount):\n",
        "    dp = [float('inf')] * (amount + 1)\n",
        "    dp[0] = 0\n",
        "\n",
        "    for i in range(1, amount + 1):\n",
        "        for coin in coins:\n",
        "            if i >= coin:\n",
        "                dp[i] = min(dp[i], dp[i - coin] + 1)\n",
        "\n",
        "    return dp[amount] if dp[amount] != float('inf') else -1\n",
        "\n",
        "\n",
        "# coin_denominations = [4, 10, 25, 3, 1]\n",
        "coin_denominations = [1, 5, 6, 9]\n",
        "target_amount = 11\n",
        "\n",
        "result = min_coins(coin_denominations, target_amount)\n",
        "if result != -1:\n",
        "    print(f\"Minimum coins needed to make {target_amount} cents: {result}\")\n",
        "else:\n",
        "    print(\"Cannot make the given amount with the available coin denominations.\")"
      ],
      "metadata": {
        "id": "HFhA1xC0Af22"
      },
      "execution_count": null,
      "outputs": []
    },
    {
      "cell_type": "markdown",
      "source": [
        "zeller formula"
      ],
      "metadata": {
        "id": "_jdTQMtWGJjn"
      }
    },
    {
      "cell_type": "code",
      "source": [
        "# f=k+ [(13*m-1)/5] + D + [D/4] + [C/4] -2*c\n",
        "# k is the day of the month\n",
        "# m is the month num\n",
        "# D is the last two digits of the year\n",
        "# c is the first two digits of the year\n",
        "\n",
        "# TC1 : 30/02/2025\n",
        "# TC2 : 29/02/2023\n",
        "# TC3 : 32/05/2023\n",
        "# TC4 : 25/13/2023\n",
        "# TC5 : 25/12/200\n",
        "# TC6 : -1/05/2023\n",
        "# TC7 : 01/01/2000\n",
        "# TC8 : 31/12/1260\n",
        "# TC9 : 15/08/1947\n",
        "# TC10: 01/-1/2000\n",
        "\n",
        "def zellers_formula(k, m, year):\n",
        "    if m < 3:\n",
        "        m += 12\n",
        "        year -= 1\n",
        "\n",
        "    d = year % 100\n",
        "    c = year // 100\n",
        "    f = k + ((13 * m - 1) // 5) + d + (d // 4) + (c // 4) - 2 * c\n",
        "    #f = k + (13*(m+1))//5 + d + d//4 + c//4 - 2*c\n",
        "    day_of_week = f % 7\n",
        "\n",
        "    return day_of_week\n",
        "\n",
        "# Dictionary to map numbers to day names\n",
        "days = {\n",
        "    0: \"Monday\",\n",
        "    1: \"Tuesday\",\n",
        "    2: \"Wednesday\",\n",
        "    3: \"Thursday\",\n",
        "    4: \"Friday\",\n",
        "    5: \"Saturday\",\n",
        "    6: \"Sunday\"\n",
        "}\n",
        "\n",
        "# Dictionary to map numbers to month names\n",
        "months = {\n",
        "    1: \"March\",\n",
        "    2: \"April\",\n",
        "    3: \"May\",\n",
        "    4: \"June\",\n",
        "    5: \"July\",\n",
        "    6: \"August\",\n",
        "    7: \"September\",\n",
        "    8: \"October\",\n",
        "    9: \"November\",\n",
        "    10: \"December\",\n",
        "    11: \"January\",\n",
        "    12: \"February\"\n",
        "}\n",
        "m = int(input(\"Enter the month = \"))\n",
        "k = int(input(\"Enter the date = \"))\n",
        "year = int(input(\"Enter the year = \"))\n",
        "day_number = zellers_formula(k, m, year)\n",
        "month_name = months[m]\n",
        "print(f\"{month_name} {k}, {year} is a {days[day_number-1]}.\")"
      ],
      "metadata": {
        "id": "_F_NzOOIHMj4"
      },
      "execution_count": null,
      "outputs": []
    },
    {
      "cell_type": "markdown",
      "source": [
        " write a program to get the left queue of the binary tree\n"
      ],
      "metadata": {
        "id": "Af7poY06gCyI"
      }
    },
    {
      "cell_type": "code",
      "source": [
        "class BinaryTreeNode:\n",
        "    def __init__(self, val=0, left=None, right=None):\n",
        "        self.val = val\n",
        "        self.left = left\n",
        "        self.right = right\n",
        "\n",
        "def left_view(root):\n",
        "    if not root:\n",
        "        return []\n",
        "\n",
        "    result = []\n",
        "    queue = [root]\n",
        "\n",
        "    while queue:\n",
        "        level_size = len(queue)\n",
        "        for i in range(level_size):\n",
        "            current_node = queue.pop(0)\n",
        "            if i == 0:\n",
        "                result.append(current_node.val)\n",
        "\n",
        "            if current_node.left:\n",
        "                queue.append(current_node.left)\n",
        "            if current_node.right:\n",
        "                queue.append(current_node.right)\n",
        "\n",
        "    return result\n",
        "\n",
        "root = BinaryTreeNode(1)\n",
        "root.left = BinaryTreeNode(2)\n",
        "root.right = BinaryTreeNode(3)\n",
        "root.left.left = BinaryTreeNode(4)\n",
        "root.left.right = BinaryTreeNode(5)\n",
        "root.right.right = BinaryTreeNode(6)\n",
        "\n",
        "left_view_result = left_view(root)\n",
        "print(\"Left view of the binary tree:\", left_view_result)"
      ],
      "metadata": {
        "id": "oQZtat4Kfh5Q"
      },
      "execution_count": null,
      "outputs": []
    },
    {
      "cell_type": "markdown",
      "source": [
        "Pattern printing"
      ],
      "metadata": {
        "id": "Nwde79oQklCy"
      }
    },
    {
      "cell_type": "code",
      "source": [
        "# *\n",
        "# **\n",
        "# ***\n",
        "# ****\n",
        "def print_pattern(n):\n",
        "  for i in range(1,n+1):\n",
        "    print('*' * i )\n",
        "\n",
        "rows= int(input(\"Enter the number of rows:-\"))\n",
        "\n",
        "print_pattern(rows)\n"
      ],
      "metadata": {
        "id": "QBZ1W6CKkjon"
      },
      "execution_count": null,
      "outputs": []
    },
    {
      "cell_type": "markdown",
      "source": [
        "Pattern Reversal"
      ],
      "metadata": {
        "id": "1Y-EnRsamKKW"
      }
    },
    {
      "cell_type": "code",
      "source": [
        "#    *\n",
        "#   **\n",
        "#  ***\n",
        "# ****\n",
        "rows=int(input())\n",
        "for i in range(1,rows+1):\n",
        "  for j in range(rows-i+1):\n",
        "    print(\" \", end=\" \")\n",
        "  for j in range(i):\n",
        "    print(\"*\", end=\" \")\n",
        "  print()"
      ],
      "metadata": {
        "id": "jAKV6XQImOmR"
      },
      "execution_count": null,
      "outputs": []
    },
    {
      "cell_type": "markdown",
      "source": [
        "Decreasing trinagle"
      ],
      "metadata": {
        "id": "GqGnYLrOm-sW"
      }
    },
    {
      "cell_type": "code",
      "source": [
        "# ******\n",
        "#  *****\n",
        "#   ****\n",
        "#    ***\n",
        "#     **\n",
        "#      *\n",
        "\n",
        "def print_reverse_triangle(n):\n",
        "    for i in range(n, 0, -1):\n",
        "        for j in range(n, i, -1):\n",
        "            print(\" \", end=\"\")\n",
        "        for j in range(i):\n",
        "            print(\"*\", end=\"\")\n",
        "        print()\n",
        "\n",
        "rows = int(input(\"Enter the number of rows: \"))\n",
        "\n",
        "print_reverse_triangle(rows)\n"
      ],
      "metadata": {
        "colab": {
          "base_uri": "https://localhost:8080/"
        },
        "id": "R0Z6fW0GnAO-",
        "outputId": "bf9511ac-a5df-4842-d629-3f73a841e008"
      },
      "execution_count": null,
      "outputs": [
        {
          "output_type": "stream",
          "name": "stdout",
          "text": [
            "Enter the number of rows: 6\n",
            "******\n",
            " *****\n",
            "  ****\n",
            "   ***\n",
            "    **\n",
            "     *\n"
          ]
        }
      ]
    },
    {
      "cell_type": "code",
      "source": [
        "def pattern(n):\n",
        "    for i in range(1, n + 1):\n",
        "        for j in range(i):\n",
        "            print(\"*\", end=\"\")\n",
        "        for j in range(2 * (n - i)):\n",
        "            print(\" \", end=\"\")\n",
        "        for j in range(i):\n",
        "            print(\"*\", end=\"\")\n",
        "        print()\n",
        "\n",
        "rows = int(input(\"Enter the number of rows: \"))\n",
        "\n",
        "pattern(rows)"
      ],
      "metadata": {
        "colab": {
          "base_uri": "https://localhost:8080/"
        },
        "id": "BK5J_NWFnva3",
        "outputId": "6a8850d8-b3b3-4902-e790-2f4011ef7472"
      },
      "execution_count": null,
      "outputs": [
        {
          "output_type": "stream",
          "name": "stdout",
          "text": [
            "Enter the number of rows: 5\n",
            "*        *\n",
            "**      **\n",
            "***    ***\n",
            "****  ****\n",
            "**********\n"
          ]
        }
      ]
    },
    {
      "cell_type": "markdown",
      "source": [
        "Diamond pattern"
      ],
      "metadata": {
        "id": "5LV4X4slvVmv"
      }
    },
    {
      "cell_type": "code",
      "source": [
        "def print_diamond(n):\n",
        "    for i in range(n):\n",
        "        for j in range(n - i - 1):\n",
        "            print(\" \", end=\"\")\n",
        "        for j in range(2 * i + 1):\n",
        "            print(\"*\", end=\"\")\n",
        "        print()\n",
        "\n",
        "    for i in range(n - 2, -1, -1):\n",
        "        for j in range(n - i - 1):\n",
        "            print(\" \", end=\"\")\n",
        "        for j in range(2 * i + 1):\n",
        "            print(\"*\", end=\"\")\n",
        "        print()\n",
        "\n",
        "# Take user input for the number of rows\n",
        "rows = int(input(\"Enter the number of rows: \"))\n",
        "\n",
        "# Call the function to print the diamond pattern\n",
        "print_diamond(rows)\n"
      ],
      "metadata": {
        "colab": {
          "base_uri": "https://localhost:8080/"
        },
        "id": "e5-_Uk_6qyZD",
        "outputId": "f9fd204a-8b2b-49bb-ae61-52919ce30153"
      },
      "execution_count": null,
      "outputs": [
        {
          "output_type": "stream",
          "name": "stdout",
          "text": [
            "Enter the number of rows: 5\n",
            "    *\n",
            "   ***\n",
            "  *****\n",
            " *******\n",
            "*********\n",
            " *******\n",
            "  *****\n",
            "   ***\n",
            "    *\n"
          ]
        }
      ]
    },
    {
      "cell_type": "markdown",
      "source": [
        "Reverse Pyramid"
      ],
      "metadata": {
        "id": "EKPyLqZKvdrO"
      }
    },
    {
      "cell_type": "code",
      "source": [
        "def print_reverse_pyramid(n):\n",
        "    for i in range(n, 0, -1):\n",
        "        for j in range(n - i):\n",
        "            print(\" \", end=\"\")\n",
        "        for j in range(2 * i - 1):\n",
        "            print(\"*\", end=\"\")\n",
        "        print()\n",
        "\n",
        "# Take user input for the number of rows\n",
        "rows = int(input(\"Enter the number of rows: \"))\n",
        "\n",
        "# Call the function to print the reverse pyramid pattern\n",
        "print_reverse_pyramid(rows)\n"
      ],
      "metadata": {
        "colab": {
          "base_uri": "https://localhost:8080/"
        },
        "id": "04Kv8tbSvX_U",
        "outputId": "c9d2e76e-e9d5-43ce-a203-0d355f95b0fc"
      },
      "execution_count": null,
      "outputs": [
        {
          "output_type": "stream",
          "name": "stdout",
          "text": [
            "Enter the number of rows: 6\n",
            "***********\n",
            " *********\n",
            "  *******\n",
            "   *****\n",
            "    ***\n",
            "     *\n"
          ]
        }
      ]
    },
    {
      "cell_type": "markdown",
      "source": [
        "Hour Glass Pattern"
      ],
      "metadata": {
        "id": "mc8OAK5hvope"
      }
    },
    {
      "cell_type": "code",
      "source": [
        "def print_hourglass_pattern(n):\n",
        "    for i in range(n, 0, -1):\n",
        "        for j in range(n - i):\n",
        "            print(\" \", end=\"\")\n",
        "        for j in range(2 * i - 1):\n",
        "            print(\"*\", end=\"\")\n",
        "        print()\n",
        "\n",
        "    for i in range(2, n + 1):\n",
        "        for j in range(n - i):\n",
        "            print(\" \", end=\"\")\n",
        "        for j in range(2 * i - 1):\n",
        "            print(\"*\", end=\"\")\n",
        "        print()\n",
        "\n",
        "\n",
        "rows = int(input(\"Enter the number of rows: \"))\n",
        "print_hourglass_pattern(rows)\n"
      ],
      "metadata": {
        "colab": {
          "base_uri": "https://localhost:8080/"
        },
        "id": "CUVQFCgFvg6G",
        "outputId": "a090340b-10a1-4573-cf32-9f868b00f577"
      },
      "execution_count": null,
      "outputs": [
        {
          "output_type": "stream",
          "name": "stdout",
          "text": [
            "Enter the number of rows: 5\n",
            "*********\n",
            " *******\n",
            "  *****\n",
            "   ***\n",
            "    *\n",
            "   ***\n",
            "  *****\n",
            " *******\n",
            "*********\n"
          ]
        }
      ]
    },
    {
      "cell_type": "markdown",
      "source": [
        "Hollow pattern\n"
      ],
      "metadata": {
        "id": "P6Fm1eu4yh0Y"
      }
    },
    {
      "cell_type": "code",
      "source": [
        "row=5\n",
        "for i in range (1,row+1):\n",
        "  for j in range(1,i+1):\n",
        "    if (j==1 or j==i or i==row):\n",
        "      print(\"*\",end=\" \")\n",
        "    else:\n",
        "      print(\" \",end=\" \")\n",
        "  print()"
      ],
      "metadata": {
        "colab": {
          "base_uri": "https://localhost:8080/"
        },
        "id": "bC4h3v8EyjrC",
        "outputId": "34c3f8a0-67a3-4d8e-e9d0-fab11b8cc1ac"
      },
      "execution_count": null,
      "outputs": [
        {
          "output_type": "stream",
          "name": "stdout",
          "text": [
            "* \n",
            "* * \n",
            "*   * \n",
            "*     * \n",
            "* * * * * \n"
          ]
        }
      ]
    },
    {
      "cell_type": "code",
      "source": [
        "row=567\n",
        "def pyramid(self,row):\n",
        "  for i in range(1,row+1):\n",
        "    for j in range(row-i+1):\n",
        "      print(\" \", end=\" \")\n",
        "    for j in range(i-1):\n",
        "      if (j==i-1 or i==row):\n",
        "        print(chr(i+65-1), end=\" \")\n",
        "\n",
        "    for j in range(i):\n",
        "      if (j==i-1 or i ==row):\n"
      ],
      "metadata": {
        "id": "mdKamRUZ0U35"
      },
      "execution_count": null,
      "outputs": []
    },
    {
      "cell_type": "code",
      "source": [
        "def compare(S, T):\n",
        "    def find_next_valid_index(s, index):\n",
        "        skip_count = 0\n",
        "        while index >= 0:\n",
        "            if s[index] == '#':\n",
        "                skip_count += 1\n",
        "            elif skip_count > 0:\n",
        "                skip_count -= 1\n",
        "            else:\n",
        "                return index\n",
        "            index -= 1\n",
        "        return index\n",
        "\n",
        "    s_ptr = len(S) - 1\n",
        "    t_ptr = len(T) - 1\n",
        "\n",
        "    while s_ptr >= 0 or t_ptr >= 0:\n",
        "        s_ptr = find_next_valid_index(S, s_ptr)\n",
        "        t_ptr = find_next_valid_index(T, t_ptr)\n",
        "\n",
        "        if s_ptr < 0 and t_ptr < 0:\n",
        "            return True\n",
        "        elif s_ptr < 0 or t_ptr < 0:\n",
        "            return False\n",
        "        elif S[s_ptr] != T[t_ptr]:\n",
        "            return False\n",
        "\n",
        "        s_ptr -= 1\n",
        "        t_ptr -= 1\n",
        "\n",
        "    return True\n",
        "\n",
        "S = input(\"S: \")\n",
        "T = input(\"T: \")\n",
        "print(compare(S, T))\n"
      ],
      "metadata": {
        "colab": {
          "base_uri": "https://localhost:8080/"
        },
        "id": "mvEn3VbeMYQk",
        "outputId": "8d2fcec3-2b18-4d18-849f-b0873976732f"
      },
      "execution_count": null,
      "outputs": [
        {
          "output_type": "stream",
          "name": "stdout",
          "text": [
            "S: a##c\n",
            "T: #a#c\n",
            "True\n"
          ]
        }
      ]
    },
    {
      "cell_type": "code",
      "source": [
        "def check_acronym(words, acronym):\n",
        "    words = words.split(', ')\n",
        "    generated_acronym = ''.join(word[0] for word in words)\n",
        "\n",
        "    if generated_acronym == acronym:\n",
        "        return \"yes its true-acronym\"\n",
        "    else:\n",
        "        return \"no its false-acronym\"\n",
        "\n",
        "input_words = input(\"Enter the words separated by commas: \")\n",
        "input_acronym = input(\"Enter the acronym: \")\n",
        "\n",
        "input_words = input_words.lower()\n",
        "input_acronym = input_acronym.lower()\n",
        "\n",
        "# Check and print the result\n",
        "result = check_acronym(input_words, input_acronym)\n",
        "print(result)"
      ],
      "metadata": {
        "id": "mClJh2XgtJGD",
        "colab": {
          "base_uri": "https://localhost:8080/"
        },
        "outputId": "68b2e03c-2e8b-4ec8-850c-ba6ed3529f7f"
      },
      "execution_count": 4,
      "outputs": [
        {
          "output_type": "stream",
          "name": "stdout",
          "text": [
            "Enter the words separated by commas: apple,banana,cat,zebra,cintrella\n",
            "Enter the acronym: abczc\n",
            "yes its true-acronym\n"
          ]
        }
      ]
    },
    {
      "cell_type": "code",
      "source": [
        "def infix_to_postfix(expression):\n",
        "    precedence = {'+': 1, '-': 1, '*': 2, '/': 2, '^': 3, '(': 0, '[': 0, '{': 0}\n",
        "    postfix = []\n",
        "    stack = []\n",
        "\n",
        "    for char in expression:\n",
        "        if char.isalnum():\n",
        "            postfix.append(char)\n",
        "        elif char in '([{':\n",
        "            stack.append(char)\n",
        "        elif char in ')]}':\n",
        "            while stack and stack[-1] not in '([{':\n",
        "                postfix.append(stack.pop())\n",
        "            stack.pop()  # Remove the matching opening bracket\n",
        "        else:\n",
        "            while stack and stack[-1] != '(' and precedence.get(char, 0) <= precedence.get(stack[-1], 0):\n",
        "                postfix.append(stack.pop())\n",
        "            stack.append(char)\n",
        "\n",
        "    while stack:\n",
        "        postfix.append(stack.pop())\n",
        "\n",
        "    return ''.join(postfix)\n",
        "\n",
        "infix_expression = input(\"Enter an infix expression: \")\n",
        "\n",
        "postfix_expression = infix_to_postfix(infix_expression)\n",
        "print(\"Postfix expression:\", postfix_expression)"
      ],
      "metadata": {
        "colab": {
          "base_uri": "https://localhost:8080/"
        },
        "id": "3zwz0FCmdyMg",
        "outputId": "b7e0bccb-68f0-4470-934e-2610064ee5b7"
      },
      "execution_count": 4,
      "outputs": [
        {
          "output_type": "stream",
          "name": "stdout",
          "text": [
            "Enter an infix expression: a+b/c-(d*e)+f\n",
            "Postfix expression: abc/+de*-f+\n"
          ]
        }
      ]
    },
    {
      "cell_type": "code",
      "source": [
        "def infix_to_postfix(expression):\n",
        "    precedence = {'+': 1, '-': 1, '*': 2, '/': 2, '^': 3, '(': 0, '[': 0, '{': 0}\n",
        "    postfix = []\n",
        "    stack = []\n",
        "\n",
        "    for char in expression:\n",
        "        if char.isalnum():\n",
        "            postfix.append(char)\n",
        "        elif char in '([{':\n",
        "            stack.append(char)\n",
        "        elif char in ')]}':\n",
        "            while stack and stack[-1] not in '([{':\n",
        "                postfix.append(stack.pop())\n",
        "            stack.pop()  # Remove the matching opening bracket\n",
        "        else:\n",
        "            while stack and stack[-1] != '(' and precedence.get(char, 0) <= precedence.get(stack[-1], 0):\n",
        "                postfix.append(stack.pop())\n",
        "            stack.append(char)\n",
        "\n",
        "    while stack:\n",
        "        postfix.append(stack.pop())\n",
        "\n",
        "    return ''.join(postfix)\n",
        "\n",
        "infix_expression = input(\"Enter an infix expression: \")\n",
        "\n",
        "postfix_expression = infix_to_postfix(infix_expression)\n",
        "print(\"Postfix expression:\", postfix_expression)"
      ],
      "metadata": {
        "colab": {
          "base_uri": "https://localhost:8080/"
        },
        "id": "0qH6-Pwihnco",
        "outputId": "4a78451c-856c-4ece-ce8b-0fa67e41aea8"
      },
      "execution_count": 5,
      "outputs": [
        {
          "output_type": "stream",
          "name": "stdout",
          "text": [
            "Enter an infix expression: a+b/c-(d*e)+f\n",
            "Postfix expression: abc/+de*-f+\n"
          ]
        }
      ]
    }
  ]
}